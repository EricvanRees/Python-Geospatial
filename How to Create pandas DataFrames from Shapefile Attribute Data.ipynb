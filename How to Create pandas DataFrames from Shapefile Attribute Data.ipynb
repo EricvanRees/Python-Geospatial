{
 "cells": [
  {
   "cell_type": "markdown",
   "metadata": {},
   "source": [
    "<h1>How to Create pandas DataFrames from Shapefile Attribute Data</h1>\n",
    "Pandas DataFrame objects are comparable to Excel spreadsheet or a relational database table. They come from the R programming language and are the most important data object in the Python pandas library. They are handy for data manipulation and analysis, which is why you might want to convert a shapefile attribute table into a pandas DataFrame. Unfortunately, ArcMap offers no such functionality and pandas itself doesn´t know what to do with spatial data. However, there are various workarounds available to create DataFrame objects from shapefiles attribute tables. A few of them are covered below.\n",
    "\n",
    "To follow the instructions below, you can download the MTBS wildfire data (national datasets) and store them on your pc. \n",
    "\n",
    "Download: https://www.mtbs.gov/direct-download (fire occurance dataset)\n",
    "\n",
    "The file that will be analyzed here is the mtbs_fod_pts_20170501 shapefile’s attribute table, that counts 20,340 rows and 30 columns."
   ]
  },
  {
   "cell_type": "markdown",
   "metadata": {},
   "source": [
    "<b>Option 1: convert a shapefile’s attribute table to an Excel table</b>\n",
    "\n",
    "If you have ArcMap available, head over to the System Toolboxes in ArcCatalog and choose “Conversion Tools” -> “Excel” -> “Table to Excel”. Choose an input file, name the Excel file that will be created and mark the “use field alias as column header” box. The same can be done using arcpy as follows:"
   ]
  },
  {
   "cell_type": "code",
   "execution_count": null,
   "metadata": {},
   "outputs": [],
   "source": [
    "import arcpy\n",
    "\n",
    "# Set local variables\n",
    "in_table = \"C:\\data\\mtbs_fod_pts_data\\mtbs_fod_pts_20170501.dbf\"\n",
    "out_xls = \"excel_table.xls\"\n",
    "\n",
    "# Execute TableToExcel\n",
    "arcpy.TableToExcel_conversion(in_table, out_xls)"
   ]
  },
  {
   "cell_type": "markdown",
   "metadata": {},
   "source": [
    "The resulting 8+ megabyte Excel file can be imported as a pandas DataFrame as follows:"
   ]
  },
  {
   "cell_type": "code",
   "execution_count": null,
   "metadata": {},
   "outputs": [],
   "source": [
    "import pandas as pd\n",
    "df = pd.read_excel(\"C:\\data\\mtbs_fod_pts_data\\excel_table.xls\")\n",
    "df(head)     # this will print out the first 5 rows and corresponding columns\n",
    "df.shape     #this will print out a list with the total amount of rows and columns"
   ]
  },
  {
   "cell_type": "markdown",
   "metadata": {},
   "source": [
    "<b>Option 2: use Arcpy to convert a Numpy Array to a pandas DataFrame</b>\n",
    "    \n",
    "The second option uses arcpy functionality to create NumPy arrays from attribute tables. The following code converts a pandas DataFrame from an NumPy array with attribute table data:\n"
   ]
  },
  {
   "cell_type": "code",
   "execution_count": null,
   "metadata": {},
   "outputs": [],
   "source": [
    "import arcpy\n",
    "import pandas as pd\n",
    "input = \"C:\\data\\mtbs_fod_pts_data\\mtbs_fod_pts_20170501.shp\"\n",
    "arr = arcpy.da.TableToNumPyArray(input, ('FIRE_ID', 'FIRENAME'))\n",
    "df = pd.DataFrame(arr)"
   ]
  },
  {
   "cell_type": "markdown",
   "metadata": {},
   "source": [
    "As you can see, only two columns are used for the creation this DataFrame, as selecting all columns will give an memory allocation error. In other words, this solution is not scalable. However, this solution can come in handy when you only want a subset of the data returned as pandas DataFrame.\n",
    "\n",
    "A similar, but more efficient approach uses Search Cursors to select the columns of interest:"
   ]
  },
  {
   "cell_type": "code",
   "execution_count": null,
   "metadata": {},
   "outputs": [],
   "source": [
    "df_2 = pd.DataFrame(arcpy.da.FeatureClassToNumPyArray(input, \n",
    "                                                    ['FIRE_ID', 'FIRENAME'], \n",
    "                                                    skip_nulls=False, \n",
    "                                                    null_value=-99999))"
   ]
  },
  {
   "cell_type": "markdown",
   "metadata": {},
   "source": [
    "<b>Option 3: Use The GeoPandas Library´s to Create a GeoPandas DataFrame</b>\n",
    "    \n",
    "The quickest and easiest option to create a DataFrame from a shapefile is by using GeoPandas, a Python library for working with geospatial data. GeoPandas inherits the standard pandas methods for indexing and selecting data and adds geographical operations as spatial joins and merges. Geopandas can read almost any vector-based spatial data format, including Esri shapefile so that with only two lines of code, you can place all rows and columns into a GeoDataFrame, the library´s data object that is modeled after the pandas DataFrame. This GeoDataFrame also lists a Geometry column containing points for each row (feature):"
   ]
  },
  {
   "cell_type": "code",
   "execution_count": null,
   "metadata": {},
   "outputs": [],
   "source": [
    "import geopandas\n",
    "gdf = geopandas.read_file(\"C:\\data\\mtbs_fod_pts_data\\mtbs_fod_pts_20170501.shp\")"
   ]
  }
 ],
 "metadata": {
  "kernelspec": {
   "display_name": "Python 3",
   "language": "python",
   "name": "python3"
  },
  "language_info": {
   "codemirror_mode": {
    "name": "ipython",
    "version": 3
   },
   "file_extension": ".py",
   "mimetype": "text/x-python",
   "name": "python",
   "nbconvert_exporter": "python",
   "pygments_lexer": "ipython3",
   "version": "3.6.3"
  }
 },
 "nbformat": 4,
 "nbformat_minor": 2
}
