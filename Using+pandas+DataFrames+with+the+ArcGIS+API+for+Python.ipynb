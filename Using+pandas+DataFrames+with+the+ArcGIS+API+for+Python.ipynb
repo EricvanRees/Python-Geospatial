{
 "cells": [
  {
   "cell_type": "markdown",
   "metadata": {},
   "source": [
    "<h1>Using pandas DataFrames with the ArcGIS API for Python</h1>\n",
    "\n",
    "This short tutorial covers how to use the ArcGIS API for Python and pandas DataFrame objects for displaying tabular data inside of your Jupyter Notebook application. After searching and referencing spatial data, you the pandas library enables you to subset, describe and plot attribute data. \n",
    "pandas is a Python package for data manipulation and analysis. It works particularly well with Jupyter Notebooks, where you can also use bash commands, magic commands, plotting capabilities and take advantage of a nice overall presentation of code, visuals and comments. The ArcGIS API for Python uses the pandas library to display and edit attribute info. Specifically, it uses pandas DataFrame objects that present data in a tabular form, comparable to Excel spreadsheets. \n",
    "To follow the instructions, you can open a new Jupyter Notebook. Make sure you have the latest available version of the API installed, which is version 1.3. \n",
    "\n",
    "<b>1.Import the module and GIS class</b>\n",
    "\n",
    "First, we´ll login to ArcGIS Online using the Jupyter Notebook app:"
   ]
  },
  {
   "cell_type": "code",
   "execution_count": 1,
   "metadata": {
    "collapsed": true
   },
   "outputs": [],
   "source": [
    "import arcgis\n",
    "from arcgis.gis import GIS\n",
    "gis = GIS()"
   ]
  },
  {
   "cell_type": "markdown",
   "metadata": {},
   "source": [
    "<b>2. Search for feature layer content</b>\n",
    "\n",
    "Feature layers are collections of layers containing geographical features as vectors. We´ll search for a feature layer called “Bruce Trail” inside of ArcGIS Online:"
   ]
  },
  {
   "cell_type": "code",
   "execution_count": 2,
   "metadata": {},
   "outputs": [
    {
     "data": {
      "text/plain": [
       "[<Item title:\"Bruce Trail\" type:Feature Layer Collection owner:DufferinGIS>,\n",
       " <Item title:\"MonoTrails\" type:Feature Layer Collection owner:MonoIT>,\n",
       " <Item title:\"TrailsBruceTrail\" type:Feature Layer Collection owner:MonoIT>,\n",
       " <Item title:\"Bruce_trail_1493841411247\" type:Feature Layer Collection owner:Chiranjeev_Beniwal>,\n",
       " <Item title:\"Formed Roads\" type:Feature Layer Collection owner:joshua.thomson_ACTGOV>]"
      ]
     },
     "execution_count": 2,
     "metadata": {},
     "output_type": "execute_result"
    }
   ],
   "source": [
    "search_result = gis.content.search(query=\"bruce trail\", item_type=\"Feature Layer\", max_items = 5)\n",
    "search_result"
   ]
  },
  {
   "cell_type": "markdown",
   "metadata": {},
   "source": [
    "The item we’re interested in is the following item, returned as the third search result."
   ]
  },
  {
   "cell_type": "markdown",
   "metadata": {},
   "source": [
    "<b>3. Reference the item and create the DataFrame object</b>\n",
    "\n",
    "We can reference this item as follows, in order to see how many layers it contains. Python returns only one item, so there´s only one layer."
   ]
  },
  {
   "cell_type": "code",
   "execution_count": 7,
   "metadata": {},
   "outputs": [
    {
     "data": {
      "text/plain": [
       "[<FeatureLayer url:\"https://services5.arcgis.com/C0BEdgagVaXzcw0W/arcgis/rest/services/Bruce_Trail_2017/FeatureServer/0\">]"
      ]
     },
     "execution_count": 7,
     "metadata": {},
     "output_type": "execute_result"
    }
   ],
   "source": [
    "bruce_trail_item = search_result[0]\n",
    "bruce_trail_item.layers"
   ]
  },
  {
   "cell_type": "markdown",
   "metadata": {},
   "source": [
    "We´ll now create a variable that holds the DataFrame object from the layer we´re interested in. Using the head function in the second line, we´ll only print the first five rows."
   ]
  },
  {
   "cell_type": "code",
   "execution_count": 8,
   "metadata": {},
   "outputs": [
    {
     "data": {
      "text/html": [
       "<div>\n",
       "<style>\n",
       "    .dataframe thead tr:only-child th {\n",
       "        text-align: right;\n",
       "    }\n",
       "\n",
       "    .dataframe thead th {\n",
       "        text-align: left;\n",
       "    }\n",
       "\n",
       "    .dataframe tbody tr th {\n",
       "        vertical-align: top;\n",
       "    }\n",
       "</style>\n",
       "<table border=\"1\" class=\"dataframe\">\n",
       "  <thead>\n",
       "    <tr style=\"text-align: right;\">\n",
       "      <th></th>\n",
       "      <th>Name</th>\n",
       "      <th>OBJECTID</th>\n",
       "      <th>PopupInfo</th>\n",
       "      <th>Shape__Length</th>\n",
       "      <th>SHAPE</th>\n",
       "    </tr>\n",
       "  </thead>\n",
       "  <tbody>\n",
       "    <tr>\n",
       "      <th>0</th>\n",
       "      <td>Placemark</td>\n",
       "      <td>1</td>\n",
       "      <td>&lt;html xmlns:fo=\"http://www.w3.org/1999/XSL/For...</td>\n",
       "      <td>600.853125</td>\n",
       "      <td>{'paths': [[[581612.5797, 4869788.1484], [5816...</td>\n",
       "    </tr>\n",
       "    <tr>\n",
       "      <th>1</th>\n",
       "      <td>Placemark</td>\n",
       "      <td>2</td>\n",
       "      <td>&lt;html xmlns:fo=\"http://www.w3.org/1999/XSL/For...</td>\n",
       "      <td>722.753897</td>\n",
       "      <td>{'paths': [[[574942.0451, 4875786.4482], [5749...</td>\n",
       "    </tr>\n",
       "    <tr>\n",
       "      <th>2</th>\n",
       "      <td>Mad River Side Trail</td>\n",
       "      <td>3</td>\n",
       "      <td>&lt;html xmlns:fo=\"http://www.w3.org/1999/XSL/For...</td>\n",
       "      <td>102.395421</td>\n",
       "      <td>{'paths': [[[564245.0435, 4910725.8358], [5642...</td>\n",
       "    </tr>\n",
       "    <tr>\n",
       "      <th>3</th>\n",
       "      <td>Walter Tovell</td>\n",
       "      <td>4</td>\n",
       "      <td>&lt;html xmlns:fo=\"http://www.w3.org/1999/XSL/For...</td>\n",
       "      <td>471.296309</td>\n",
       "      <td>{'paths': [[[573836.5058, 4877993.2709], [5738...</td>\n",
       "    </tr>\n",
       "    <tr>\n",
       "      <th>4</th>\n",
       "      <td>South Outlier Loop</td>\n",
       "      <td>5</td>\n",
       "      <td>&lt;html xmlns:fo=\"http://www.w3.org/1999/XSL/For...</td>\n",
       "      <td>1656.343658</td>\n",
       "      <td>{'paths': [[[574612.6017, 4877271.9632], [5746...</td>\n",
       "    </tr>\n",
       "  </tbody>\n",
       "</table>\n",
       "</div>"
      ],
      "text/plain": [
       "                   Name  OBJECTID  \\\n",
       "0             Placemark         1   \n",
       "1             Placemark         2   \n",
       "2  Mad River Side Trail         3   \n",
       "3         Walter Tovell         4   \n",
       "4    South Outlier Loop         5   \n",
       "\n",
       "                                           PopupInfo  Shape__Length  \\\n",
       "0  <html xmlns:fo=\"http://www.w3.org/1999/XSL/For...     600.853125   \n",
       "1  <html xmlns:fo=\"http://www.w3.org/1999/XSL/For...     722.753897   \n",
       "2  <html xmlns:fo=\"http://www.w3.org/1999/XSL/For...     102.395421   \n",
       "3  <html xmlns:fo=\"http://www.w3.org/1999/XSL/For...     471.296309   \n",
       "4  <html xmlns:fo=\"http://www.w3.org/1999/XSL/For...    1656.343658   \n",
       "\n",
       "                                               SHAPE  \n",
       "0  {'paths': [[[581612.5797, 4869788.1484], [5816...  \n",
       "1  {'paths': [[[574942.0451, 4875786.4482], [5749...  \n",
       "2  {'paths': [[[564245.0435, 4910725.8358], [5642...  \n",
       "3  {'paths': [[[573836.5058, 4877993.2709], [5738...  \n",
       "4  {'paths': [[[574612.6017, 4877271.9632], [5746...  "
      ]
     },
     "execution_count": 8,
     "metadata": {},
     "output_type": "execute_result"
    }
   ],
   "source": [
    "btl_df = bruce_trail_item.layers[0].query().df\n",
    "btl_df.head()"
   ]
  },
  {
   "cell_type": "markdown",
   "metadata": {},
   "source": [
    "<b>4. Describe the item´s attribute data</b>\n",
    "\n",
    "There are many functions to describe the data inside pandas DataFrame objects. For example, the shape function returns the amount of rows and columns of the entire DataFrame as a tuple:"
   ]
  },
  {
   "cell_type": "code",
   "execution_count": 9,
   "metadata": {},
   "outputs": [
    {
     "data": {
      "text/plain": [
       "(367, 5)"
      ]
     },
     "execution_count": 9,
     "metadata": {},
     "output_type": "execute_result"
    }
   ],
   "source": [
    "btl_df.shape"
   ]
  },
  {
   "cell_type": "markdown",
   "metadata": {},
   "source": [
    "We can print the different column names as follows:"
   ]
  },
  {
   "cell_type": "code",
   "execution_count": 10,
   "metadata": {},
   "outputs": [
    {
     "data": {
      "text/plain": [
       "Index(['Name', 'OBJECTID', 'PopupInfo', 'Shape__Length', 'SHAPE'], dtype='object')"
      ]
     },
     "execution_count": 10,
     "metadata": {},
     "output_type": "execute_result"
    }
   ],
   "source": [
    "btl_df.columns"
   ]
  },
  {
   "cell_type": "markdown",
   "metadata": {},
   "source": [
    "The .loc property can be used to subset entire rows, using the row´s index number, starting from zero. Here, we print the column names and values of the first item:"
   ]
  },
  {
   "cell_type": "code",
   "execution_count": 12,
   "metadata": {},
   "outputs": [
    {
     "data": {
      "text/plain": [
       "Name                                                     Placemark\n",
       "OBJECTID                                                         1\n",
       "PopupInfo        <html xmlns:fo=\"http://www.w3.org/1999/XSL/For...\n",
       "Shape__Length                                              600.853\n",
       "SHAPE            {'paths': [[[581612.5797, 4869788.1484], [5816...\n",
       "Name: 0, dtype: object"
      ]
     },
     "execution_count": 12,
     "metadata": {},
     "output_type": "execute_result"
    }
   ],
   "source": [
    "btl_df.loc[0]"
   ]
  },
  {
   "cell_type": "markdown",
   "metadata": {},
   "source": [
    "You can also access a separate cell value. For example, the PopupInfo value of the first item can be accessed as follows:"
   ]
  },
  {
   "cell_type": "code",
   "execution_count": 14,
   "metadata": {},
   "outputs": [
    {
     "data": {
      "text/plain": [
       "'<html xmlns:fo=\"http://www.w3.org/1999/XSL/Format\" xmlns:msxsl=\"urn:schemas-microsoft-com:xslt\">\\n\\n<head>\\n\\n<META http-equiv=\"Content-Type\" content=\"text/html\">\\n\\n<meta http-equiv=\"content-type\" content=\"text/html; charset=UTF-8\">\\n\\n</head>\\n\\n<body style=\"margin:0px 0px 0px 0px;overflow:auto;background:#FFFFFF;\">\\n\\n<table style=\"font-family:Arial,Verdana,Times;font-size:12px;text-align:left;width:100%;border-collapse:collapse;padding:3px 3px 3px 3px\">\\n\\n<tr style=\"text-align:center;font-weight:bold;background:#9CBCE2\">\\n\\n<td> </td>\\n\\n</tr>\\n\\n<tr>\\n\\n<td>\\n\\n<table style=\"font-family:Arial,Verdana,Times;font-size:12px;text-align:left;width:100%;border-spacing:0px; padding:3px 3px 3px 3px\">\\n\\n<tr>\\n\\n<td>FID</td>\\n\\n<td>0</td>\\n\\n</tr>\\n\\n<tr bgcolor=\"#D4E4F3\">\\n\\n<td>OBJECTID_1</td>\\n\\n<td>1</td>\\n\\n</tr>\\n\\n<tr>\\n\\n<td>ST_Class</td>\\n\\n<td></td>\\n\\n</tr>\\n\\n<tr bgcolor=\"#D4E4F3\">\\n\\n<td>TRAIL_TYPE</td>\\n\\n<td>Main Trail</td>\\n\\n</tr>\\n\\n<tr>\\n\\n<td>TRAIL_NAME</td>\\n\\n<td></td>\\n\\n</tr>\\n\\n<tr bgcolor=\"#D4E4F3\">\\n\\n<td>Modif_Date</td>\\n\\n<td>2/16/2007</td>\\n\\n</tr>\\n\\n<tr>\\n\\n<td>GPS_Date</td>\\n\\n<td>2/16/2007</td>\\n\\n</tr>\\n\\n<tr bgcolor=\"#D4E4F3\">\\n\\n<td>CLUB_SEC</td>\\n\\n<td>Caledon</td>\\n\\n</tr>\\n\\n<tr>\\n\\n<td>SITE</td>\\n\\n<td>Blazed</td>\\n\\n</tr>\\n\\n<tr bgcolor=\"#D4E4F3\">\\n\\n<td>CONT_OR</td>\\n\\n<td>Cont OR</td>\\n\\n</tr>\\n\\n<tr>\\n\\n<td>New_For</td>\\n\\n<td></td>\\n\\n</tr>\\n\\n<tr bgcolor=\"#D4E4F3\">\\n\\n<td>SOURCE</td>\\n\\n<td>captured by c.atkinson</td>\\n\\n</tr>\\n\\n<tr>\\n\\n<td>GPS_ID</td>\\n\\n<td>0</td>\\n\\n</tr>\\n\\n<tr bgcolor=\"#D4E4F3\">\\n\\n<td>INTERVAL_M</td>\\n\\n<td>3</td>\\n\\n</tr>\\n\\n<tr>\\n\\n<td>MODEL</td>\\n\\n<td>GPSMAP 76</td>\\n\\n</tr>\\n\\n<tr bgcolor=\"#D4E4F3\">\\n\\n<td>ST_Length</td>\\n\\n<td>0</td>\\n\\n</tr>\\n\\n<tr>\\n\\n<td>Verif_ST_k</td>\\n\\n<td></td>\\n\\n</tr>\\n\\n<tr bgcolor=\"#D4E4F3\">\\n\\n<td>Loop_wMT</td>\\n\\n<td>0</td>\\n\\n</tr>\\n\\n<tr>\\n\\n<td>BruceTra_1</td>\\n\\n<td>600.853128</td>\\n\\n</tr>\\n\\n</table>\\n\\n</td>\\n\\n</tr>\\n\\n</table>\\n\\n</body>\\n\\n</html>'"
      ]
     },
     "execution_count": 14,
     "metadata": {},
     "output_type": "execute_result"
    }
   ],
   "source": [
    "btl_df.loc[0]['PopupInfo']"
   ]
  },
  {
   "cell_type": "markdown",
   "metadata": {},
   "source": [
    "The outcome looks like XML data inside a HTML file and is not very readable for humans. We can use the HTML library to return the same output in a more readable way:"
   ]
  },
  {
   "cell_type": "code",
   "execution_count": 15,
   "metadata": {},
   "outputs": [
    {
     "data": {
      "text/html": [
       "<html xmlns:fo=\"http://www.w3.org/1999/XSL/Format\" xmlns:msxsl=\"urn:schemas-microsoft-com:xslt\">\n",
       "\n",
       "<head>\n",
       "\n",
       "<META http-equiv=\"Content-Type\" content=\"text/html\">\n",
       "\n",
       "<meta http-equiv=\"content-type\" content=\"text/html; charset=UTF-8\">\n",
       "\n",
       "</head>\n",
       "\n",
       "<body style=\"margin:0px 0px 0px 0px;overflow:auto;background:#FFFFFF;\">\n",
       "\n",
       "<table style=\"font-family:Arial,Verdana,Times;font-size:12px;text-align:left;width:100%;border-collapse:collapse;padding:3px 3px 3px 3px\">\n",
       "\n",
       "<tr style=\"text-align:center;font-weight:bold;background:#9CBCE2\">\n",
       "\n",
       "<td> </td>\n",
       "\n",
       "</tr>\n",
       "\n",
       "<tr>\n",
       "\n",
       "<td>\n",
       "\n",
       "<table style=\"font-family:Arial,Verdana,Times;font-size:12px;text-align:left;width:100%;border-spacing:0px; padding:3px 3px 3px 3px\">\n",
       "\n",
       "<tr>\n",
       "\n",
       "<td>FID</td>\n",
       "\n",
       "<td>0</td>\n",
       "\n",
       "</tr>\n",
       "\n",
       "<tr bgcolor=\"#D4E4F3\">\n",
       "\n",
       "<td>OBJECTID_1</td>\n",
       "\n",
       "<td>1</td>\n",
       "\n",
       "</tr>\n",
       "\n",
       "<tr>\n",
       "\n",
       "<td>ST_Class</td>\n",
       "\n",
       "<td></td>\n",
       "\n",
       "</tr>\n",
       "\n",
       "<tr bgcolor=\"#D4E4F3\">\n",
       "\n",
       "<td>TRAIL_TYPE</td>\n",
       "\n",
       "<td>Main Trail</td>\n",
       "\n",
       "</tr>\n",
       "\n",
       "<tr>\n",
       "\n",
       "<td>TRAIL_NAME</td>\n",
       "\n",
       "<td></td>\n",
       "\n",
       "</tr>\n",
       "\n",
       "<tr bgcolor=\"#D4E4F3\">\n",
       "\n",
       "<td>Modif_Date</td>\n",
       "\n",
       "<td>2/16/2007</td>\n",
       "\n",
       "</tr>\n",
       "\n",
       "<tr>\n",
       "\n",
       "<td>GPS_Date</td>\n",
       "\n",
       "<td>2/16/2007</td>\n",
       "\n",
       "</tr>\n",
       "\n",
       "<tr bgcolor=\"#D4E4F3\">\n",
       "\n",
       "<td>CLUB_SEC</td>\n",
       "\n",
       "<td>Caledon</td>\n",
       "\n",
       "</tr>\n",
       "\n",
       "<tr>\n",
       "\n",
       "<td>SITE</td>\n",
       "\n",
       "<td>Blazed</td>\n",
       "\n",
       "</tr>\n",
       "\n",
       "<tr bgcolor=\"#D4E4F3\">\n",
       "\n",
       "<td>CONT_OR</td>\n",
       "\n",
       "<td>Cont OR</td>\n",
       "\n",
       "</tr>\n",
       "\n",
       "<tr>\n",
       "\n",
       "<td>New_For</td>\n",
       "\n",
       "<td></td>\n",
       "\n",
       "</tr>\n",
       "\n",
       "<tr bgcolor=\"#D4E4F3\">\n",
       "\n",
       "<td>SOURCE</td>\n",
       "\n",
       "<td>captured by c.atkinson</td>\n",
       "\n",
       "</tr>\n",
       "\n",
       "<tr>\n",
       "\n",
       "<td>GPS_ID</td>\n",
       "\n",
       "<td>0</td>\n",
       "\n",
       "</tr>\n",
       "\n",
       "<tr bgcolor=\"#D4E4F3\">\n",
       "\n",
       "<td>INTERVAL_M</td>\n",
       "\n",
       "<td>3</td>\n",
       "\n",
       "</tr>\n",
       "\n",
       "<tr>\n",
       "\n",
       "<td>MODEL</td>\n",
       "\n",
       "<td>GPSMAP 76</td>\n",
       "\n",
       "</tr>\n",
       "\n",
       "<tr bgcolor=\"#D4E4F3\">\n",
       "\n",
       "<td>ST_Length</td>\n",
       "\n",
       "<td>0</td>\n",
       "\n",
       "</tr>\n",
       "\n",
       "<tr>\n",
       "\n",
       "<td>Verif_ST_k</td>\n",
       "\n",
       "<td></td>\n",
       "\n",
       "</tr>\n",
       "\n",
       "<tr bgcolor=\"#D4E4F3\">\n",
       "\n",
       "<td>Loop_wMT</td>\n",
       "\n",
       "<td>0</td>\n",
       "\n",
       "</tr>\n",
       "\n",
       "<tr>\n",
       "\n",
       "<td>BruceTra_1</td>\n",
       "\n",
       "<td>600.853128</td>\n",
       "\n",
       "</tr>\n",
       "\n",
       "</table>\n",
       "\n",
       "</td>\n",
       "\n",
       "</tr>\n",
       "\n",
       "</table>\n",
       "\n",
       "</body>\n",
       "\n",
       "</html>"
      ],
      "text/plain": [
       "<IPython.core.display.HTML object>"
      ]
     },
     "execution_count": 15,
     "metadata": {},
     "output_type": "execute_result"
    }
   ],
   "source": [
    "from IPython.display import HTML\n",
    "HTML(btl_df.loc[0]['PopupInfo'])"
   ]
  },
  {
   "cell_type": "markdown",
   "metadata": {},
   "source": [
    "<b>5. Create a histogram</b>\n",
    "\n",
    "We can also create a histogram using the shape length field as input. The first line of the code below is a magic command that enable the use of plotting capabilities inside the Jupyter Notebook application:"
   ]
  },
  {
   "cell_type": "code",
   "execution_count": 16,
   "metadata": {},
   "outputs": [
    {
     "data": {
      "text/plain": [
       "<matplotlib.axes._subplots.AxesSubplot at 0x20b93676fd0>"
      ]
     },
     "execution_count": 16,
     "metadata": {},
     "output_type": "execute_result"
    },
    {
     "data": {
      "image/png": "[encoded data removed]",
      "text/plain": [
       "<matplotlib.figure.Figure at 0x20b917f12e8>"
      ]
     },
     "metadata": {},
     "output_type": "display_data"
    }
   ],
   "source": [
    "%matplotlib inline\n",
    "import matplotlib.pyplot as pd\n",
    "btl_df['Shape__Length'].hist()"
   ]
  }
 ],
 "metadata": {
  "kernelspec": {
   "display_name": "Python 3",
   "language": "python",
   "name": "python3"
  },
  "language_info": {
   "codemirror_mode": {
    "name": "ipython",
    "version": 3
   },
   "file_extension": ".py",
   "mimetype": "text/x-python",
   "name": "python",
   "nbconvert_exporter": "python",
   "pygments_lexer": "ipython3",
   "version": "3.6.2"
  }
 },
 "nbformat": 4,
 "nbformat_minor": 2
}
