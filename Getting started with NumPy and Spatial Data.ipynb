{
 "cells": [
  {
   "cell_type": "markdown",
   "metadata": {},
   "source": [
    "<h1>Getting started with NumPy and Spatial Data</h1>\n",
    "<b>This is a short beginners tutorial for ArcGIS users who are interested in learning about basic NumPy functionality. It describes how to create a NumPy array from a shapefile and interact with the attribute table data inside of it, making simple data queries. The goal is to get familiar with NumPy arrays and related Python syntax and functionality.</b>\n",
    "\n",
    "This tutotial is built around an online dataset that can be downloaded here:\n",
    "\n",
    "https://github.com/Robinlovelace/Creating-maps-in-R/tree/master/data\n",
    "\n",
    "Although the dataset includes multiple files, the only file that’s used in this tutorial is an Esri shapefile called LondonBoroughs.shp. It´s recommended to download a copy of this dataset in a separate folder on your hard drive and inspect the shapefile in ArcMap/ArcCatalog, especially the contents of its attribute table. As you can see, the geometry consists of a number of polygons that together form the different communities of London. The attribute file consists of all borough names and different columns with numerical data. Next, we´ll introduce some Python syntax to work with this data in NumPy.\n",
    "\n",
    "<b>1.\tImporting the modules</b>\n",
    "\n",
    "First, open an IDE and an new script and name it something like“NumPy tutorial.py”. Start your script with importing the required Python modules:"
   ]
  },
  {
   "cell_type": "code",
   "execution_count": null,
   "metadata": {},
   "outputs": [],
   "source": [
    "import arcpy\n",
    "import numpy"
   ]
  },
  {
   "cell_type": "markdown",
   "metadata": {},
   "source": [
    "<b>2. Set the environment and create a NumPy array</b>\n",
    "\n",
    "Now we are going to create a NumPy array from the file´s attribute column data. This array will conserve all column data of the attribute data, but converted to a NumPy array so you can work with it in Python. To do this, we now need to refer to the local file on disk and specify the fields that are of interest for the creation of the array. We´ll select a few columns with numerical values. Next, a function of Arcpy´s Data Access module is used to transform the attribute table data into a NumPy array. We´ll look at this array next."
   ]
  },
  {
   "cell_type": "code",
   "execution_count": null,
   "metadata": {},
   "outputs": [],
   "source": [
    "input = \"C:/data/Creating-maps-in-R-master/data/londonBoroughs.shp\"\n",
    "arr = arcpy.da.TableToNumPyArray(input, ('name', 'Pop_2001', 'PopDensity', 'AREA', 'PERIMETER'))"
   ]
  },
  {
   "cell_type": "markdown",
   "metadata": {},
   "source": [
    "The NumPy package primarily focuses on working with n-dimensional array objects. If you´re using Python´s standard libraries, you can only use one-dimensional arrays, meaning an array (or list) with only one row. NumPy lets you work with multidimensional data, making it possible to work with data in a better structure and let you manipulate that structure as well. For example, our new NumPy array can be used to list all column values, by specifying a specific header name. The result is a Python list containing all column values with header Pop_2001."
   ]
  },
  {
   "cell_type": "code",
   "execution_count": null,
   "metadata": {},
   "outputs": [],
   "source": [
    "print arr[\"Pop_2001\"]"
   ]
  },
  {
   "cell_type": "markdown",
   "metadata": {},
   "source": [
    "<b>3. Doing basic calculations and queries with NumPy array data</b>\n",
    "\n",
    "You can also calculate the sum and mean values for a specific column, and more:"
   ]
  },
  {
   "cell_type": "code",
   "execution_count": null,
   "metadata": {},
   "outputs": [],
   "source": [
    "# Sum the total population for 2001, total area size, mean area size\n",
    "# and total population of the Westminster area:\n",
    "a = arr[\"Pop_2001\"].sum()\n",
    "b = arr[\"AREA\"].sum()\n",
    "mas = arr[\"AREA\"].mean()\n",
    "mpopden = arr['PopDensity'].mean()\n",
    "c = arr[arr['name'] == \"Westminster\"]['Pop_2001'].sum()\n",
    "\n",
    "print 'The total population of 2001 is {}.\\n'.format(a)\n",
    "print 'The total area size is {}.\\n'.format(b)\n",
    "print 'The mean area size is {}.\\n'.format(mas)\n",
    "print 'The mean (rounded) population density is {}.\\n'.format(int(mpopden))\n",
    "print 'The total population of the Westminster area is {}. \\n'.format(c)\n",
    "\n",
    "'''>>The total population of 2001 is 7172057.\n",
    ">>The total area size is 1595319551.24.\n",
    ">>The mean area size is 48343016.7042\n",
    ">>The mean (rounded) population density is 5866.\n",
    ">> The total population of the Westminster area is 181284.\n",
    "'''"
   ]
  },
  {
   "cell_type": "markdown",
   "metadata": {},
   "source": [
    "<b>4. Listing column names separately</b>\n",
    "\n",
    "If you´re interested in how ArcPy stores the attribute table as a Python object, use the “print arr” statement and notice that all rows from the attribute table are preservd as tuples that are separated by a comma and a new line. The column names are printed seprately at the end of the array, along with their specific NumPy data type. You can also list these column names separately, that Python returns as a tuple:\n"
   ]
  },
  {
   "cell_type": "code",
   "execution_count": null,
   "metadata": {},
   "outputs": [],
   "source": [
    "# Print the column names of the Numpy Array:\n",
    "colnames = arr.dtype.names\n",
    "print 'The Numpy array has the following column names:  \\n' + str(colnames)\n",
    "\n",
    "'''>>The Numpy array has the following column names:  \n",
    ">>('name', 'Pop_2001', 'PopDensity', 'AREA', 'PERIMETER')'''"
   ]
  },
  {
   "cell_type": "markdown",
   "metadata": {},
   "source": [
    "<b>5. Accessing a particular cell value in a NumPy array</b>\n",
    "The following code can be used to access a particular cell in our NumPy array:"
   ]
  },
  {
   "cell_type": "code",
   "execution_count": null,
   "metadata": {},
   "outputs": [],
   "source": [
    "d = arr[1][4]\n",
    "print 'The perimeter value for Richmond upon Thames is {}\\n'.format(d)\n",
    "\n",
    "'''The perimeter value for Richmond upon Thames is 47941.015783'''"
   ]
  },
  {
   "cell_type": "markdown",
   "metadata": {},
   "source": [
    "You can also use a for loop to list all values in a specific column. This does exactly the same as our print arr[“Pop_2001”] statement listed earlier, although here the results are listed as separate items and from top to bottom:"
   ]
  },
  {
   "cell_type": "code",
   "execution_count": null,
   "metadata": {},
   "outputs": [],
   "source": [
    "for i in arr:\n",
    "    print i[1]"
   ]
  },
  {
   "cell_type": "markdown",
   "metadata": {},
   "source": [
    "The same code written as a list comprehension and returned as a list:"
   ]
  },
  {
   "cell_type": "code",
   "execution_count": null,
   "metadata": {},
   "outputs": [],
   "source": [
    "n = [i[1] for i in arr]\n",
    "print n"
   ]
  },
  {
   "cell_type": "markdown",
   "metadata": {},
   "source": [
    "<b>6.Select by attribute</b>\n",
    "\n",
    "The NumPy array makes it possible to perform data queries, for example a making a selection of all Borough names where population density exceeds 8000 (the query will return in nine results): "
   ]
  },
  {
   "cell_type": "code",
   "execution_count": null,
   "metadata": {},
   "outputs": [],
   "source": [
    "for t in arr:\n",
    "    if t[2] > 8000:\n",
    "        print t[0]"
   ]
  },
  {
   "cell_type": "markdown",
   "metadata": {},
   "source": [
    "This is the same query, but now written as a list comprehension:"
   ]
  },
  {
   "cell_type": "code",
   "execution_count": null,
   "metadata": {},
   "outputs": [],
   "source": [
    "m = [t[0] for t in arr if t[2] > 8000]\n",
    "print m"
   ]
  },
  {
   "cell_type": "markdown",
   "metadata": {},
   "source": [
    "<b>7.Array management: creating subarrays and selecting its elements</b>\n",
    "    \n",
    "NumPy arrays can easily be sliced to create new arrays. For example:"
   ]
  },
  {
   "cell_type": "code",
   "execution_count": null,
   "metadata": {},
   "outputs": [],
   "source": [
    "# The following code returns a subarray of row nrs. 1 to 4:\n",
    "subarray = arr[1:5]\n",
    "print subarray"
   ]
  },
  {
   "cell_type": "markdown",
   "metadata": {},
   "source": [
    "You can select elements from this subarray, for example returning Borough names where population density exceeds 2000:"
   ]
  },
  {
   "cell_type": "code",
   "execution_count": null,
   "metadata": {},
   "outputs": [],
   "source": [
    "for i in subarray:\n",
    "    if subarray[2] > 2000:\n",
    "        print b[0]"
   ]
  },
  {
   "cell_type": "markdown",
   "metadata": {},
   "source": [
    "<b>8.Convert a NumPy array to a NumPy matrix</b>\n",
    "\n",
    "A NumPy array can be easily converted to a NumPy matrix. The main advantage of numpy matrices is that they provide a convenient notation for matrix multiplication. The conversion is performed as follows:"
   ]
  },
  {
   "cell_type": "code",
   "execution_count": null,
   "metadata": {},
   "outputs": [],
   "source": [
    "matrix = numpy.asmatrix(arr)\n",
    "print matrix"
   ]
  }
 ],
 "metadata": {
  "kernelspec": {
   "display_name": "Python 3",
   "language": "python",
   "name": "python3"
  },
  "language_info": {
   "codemirror_mode": {
    "name": "ipython",
    "version": 3
   },
   "file_extension": ".py",
   "mimetype": "text/x-python",
   "name": "python",
   "nbconvert_exporter": "python",
   "pygments_lexer": "ipython3",
   "version": "3.6.3"
  }
 },
 "nbformat": 4,
 "nbformat_minor": 2
}
