{
 "cells": [
  {
   "cell_type": "markdown",
   "metadata": {},
   "source": [
    "<h1>pandas methods and geopandas dataframe objects</h1>\n",
    "This notebook demonstrates the use of a number of methods and attributes of pandas' dataframes on GeoPandas GeoDataframe objects.\n",
    "Because GeoDataframe objects are subclasses of pandas dataframe objects, they can be used if they were dataframe objects."
   ]
  },
  {
   "cell_type": "code",
   "execution_count": 36,
   "metadata": {},
   "outputs": [
    {
     "data": {
      "text/html": [
       "<div>\n",
       "<style scoped>\n",
       "    .dataframe tbody tr th:only-of-type {\n",
       "        vertical-align: middle;\n",
       "    }\n",
       "\n",
       "    .dataframe tbody tr th {\n",
       "        vertical-align: top;\n",
       "    }\n",
       "\n",
       "    .dataframe thead th {\n",
       "        text-align: right;\n",
       "    }\n",
       "</style>\n",
       "<table border=\"1\" class=\"dataframe\">\n",
       "  <thead>\n",
       "    <tr style=\"text-align: right;\">\n",
       "      <th></th>\n",
       "      <th>FIRE_ID</th>\n",
       "      <th>FIRENAME</th>\n",
       "      <th>ASMNT_TYPE</th>\n",
       "      <th>PRE_ID</th>\n",
       "      <th>POST_ID</th>\n",
       "      <th>ND_T</th>\n",
       "      <th>IG_T</th>\n",
       "      <th>LOW_T</th>\n",
       "      <th>MOD_T</th>\n",
       "      <th>HIGH_T</th>\n",
       "      <th>...</th>\n",
       "      <th>ADMIN</th>\n",
       "      <th>MTBS_ZONE</th>\n",
       "      <th>GACC</th>\n",
       "      <th>HUC4_CODE</th>\n",
       "      <th>HUC4_NAME</th>\n",
       "      <th>Version</th>\n",
       "      <th>RevCode</th>\n",
       "      <th>RelDate</th>\n",
       "      <th>Fire_Type</th>\n",
       "      <th>geometry</th>\n",
       "    </tr>\n",
       "  </thead>\n",
       "  <tbody>\n",
       "    <tr>\n",
       "      <th>0</th>\n",
       "      <td>AK6529614185119990612</td>\n",
       "      <td>WITCH</td>\n",
       "      <td>Extended</td>\n",
       "      <td>50660141994192</td>\n",
       "      <td>50650141999199</td>\n",
       "      <td>-970.0</td>\n",
       "      <td>-150.0</td>\n",
       "      <td>75.0</td>\n",
       "      <td>350.0</td>\n",
       "      <td>600.0</td>\n",
       "      <td>...</td>\n",
       "      <td>NPS</td>\n",
       "      <td>Alaska</td>\n",
       "      <td>Alaska</td>\n",
       "      <td>19040401</td>\n",
       "      <td>Eagle to Circle</td>\n",
       "      <td>Revised</td>\n",
       "      <td>A</td>\n",
       "      <td>2013-08-31</td>\n",
       "      <td>WF</td>\n",
       "      <td>POINT (-141.851 65.29600000000001)</td>\n",
       "    </tr>\n",
       "    <tr>\n",
       "      <th>1</th>\n",
       "      <td>AK6775716231420040531</td>\n",
       "      <td>UVGOON CREEK</td>\n",
       "      <td>Initial</td>\n",
       "      <td>70800122002176</td>\n",
       "      <td>70800122004183</td>\n",
       "      <td>-970.0</td>\n",
       "      <td>-150.0</td>\n",
       "      <td>-10.0</td>\n",
       "      <td>250.0</td>\n",
       "      <td>9999.0</td>\n",
       "      <td>...</td>\n",
       "      <td>NPS</td>\n",
       "      <td>Alaska</td>\n",
       "      <td>Alaska</td>\n",
       "      <td>19050403</td>\n",
       "      <td>Lower Noatuk River</td>\n",
       "      <td>Revised</td>\n",
       "      <td>A</td>\n",
       "      <td>2013-08-31</td>\n",
       "      <td>WF</td>\n",
       "      <td>POINT (-162.314 67.75700000000001)</td>\n",
       "    </tr>\n",
       "    <tr>\n",
       "      <th>2</th>\n",
       "      <td>AL3038308812219980404</td>\n",
       "      <td>UNNAMED</td>\n",
       "      <td>Initial (SS)</td>\n",
       "      <td>NA</td>\n",
       "      <td>50210391998128</td>\n",
       "      <td>-9999.0</td>\n",
       "      <td>-9999.0</td>\n",
       "      <td>650.0</td>\n",
       "      <td>-9999.0</td>\n",
       "      <td>-9999.0</td>\n",
       "      <td>...</td>\n",
       "      <td>OTHER</td>\n",
       "      <td>Southeast</td>\n",
       "      <td>Southern</td>\n",
       "      <td>03160205</td>\n",
       "      <td>Mobile Bay</td>\n",
       "      <td>Revised</td>\n",
       "      <td>A</td>\n",
       "      <td>2013-08-31</td>\n",
       "      <td>WF</td>\n",
       "      <td>POINT (-88.122 30.383)</td>\n",
       "    </tr>\n",
       "    <tr>\n",
       "      <th>3</th>\n",
       "      <td>AL3041008830120050916</td>\n",
       "      <td>BAY FIRE</td>\n",
       "      <td>Initial (SS)</td>\n",
       "      <td>NA</td>\n",
       "      <td>50210392005291</td>\n",
       "      <td>-9999.0</td>\n",
       "      <td>-9999.0</td>\n",
       "      <td>525.0</td>\n",
       "      <td>72.0</td>\n",
       "      <td>-175.0</td>\n",
       "      <td>...</td>\n",
       "      <td>OTHER</td>\n",
       "      <td>Southeast</td>\n",
       "      <td>Southern</td>\n",
       "      <td>03170009</td>\n",
       "      <td>Mississippi Coastal</td>\n",
       "      <td>Revised</td>\n",
       "      <td>A</td>\n",
       "      <td>2013-08-31</td>\n",
       "      <td>WF</td>\n",
       "      <td>POINT (-88.301 30.41)</td>\n",
       "    </tr>\n",
       "    <tr>\n",
       "      <th>4</th>\n",
       "      <td>AL3067208833720050207</td>\n",
       "      <td>UNNAMED</td>\n",
       "      <td>Initial</td>\n",
       "      <td>50210392004049</td>\n",
       "      <td>50210392005083</td>\n",
       "      <td>-970.0</td>\n",
       "      <td>-150.0</td>\n",
       "      <td>60.0</td>\n",
       "      <td>450.0</td>\n",
       "      <td>9999.0</td>\n",
       "      <td>...</td>\n",
       "      <td>OTHER</td>\n",
       "      <td>Southeast</td>\n",
       "      <td>Southern</td>\n",
       "      <td>03170008</td>\n",
       "      <td>Escatawpa</td>\n",
       "      <td>Revised</td>\n",
       "      <td>A</td>\n",
       "      <td>2013-08-31</td>\n",
       "      <td>RX</td>\n",
       "      <td>POINT (-88.337 30.672)</td>\n",
       "    </tr>\n",
       "  </tbody>\n",
       "</table>\n",
       "<p>5 rows × 30 columns</p>\n",
       "</div>"
      ],
      "text/plain": [
       "                 FIRE_ID      FIRENAME    ASMNT_TYPE          PRE_ID  \\\n",
       "0  AK6529614185119990612         WITCH      Extended  50660141994192   \n",
       "1  AK6775716231420040531  UVGOON CREEK       Initial  70800122002176   \n",
       "2  AL3038308812219980404       UNNAMED  Initial (SS)              NA   \n",
       "3  AL3041008830120050916      BAY FIRE  Initial (SS)              NA   \n",
       "4  AL3067208833720050207       UNNAMED       Initial  50210392004049   \n",
       "\n",
       "          POST_ID    ND_T    IG_T  LOW_T   MOD_T  HIGH_T  \\\n",
       "0  50650141999199  -970.0  -150.0   75.0   350.0   600.0   \n",
       "1  70800122004183  -970.0  -150.0  -10.0   250.0  9999.0   \n",
       "2  50210391998128 -9999.0 -9999.0  650.0 -9999.0 -9999.0   \n",
       "3  50210392005291 -9999.0 -9999.0  525.0    72.0  -175.0   \n",
       "4  50210392005083  -970.0  -150.0   60.0   450.0  9999.0   \n",
       "\n",
       "                  ...                  ADMIN  MTBS_ZONE      GACC  HUC4_CODE  \\\n",
       "0                 ...                    NPS     Alaska    Alaska   19040401   \n",
       "1                 ...                    NPS     Alaska    Alaska   19050403   \n",
       "2                 ...                  OTHER  Southeast  Southern   03160205   \n",
       "3                 ...                  OTHER  Southeast  Southern   03170009   \n",
       "4                 ...                  OTHER  Southeast  Southern   03170008   \n",
       "\n",
       "             HUC4_NAME  Version  RevCode     RelDate  Fire_Type  \\\n",
       "0      Eagle to Circle  Revised        A  2013-08-31         WF   \n",
       "1   Lower Noatuk River  Revised        A  2013-08-31         WF   \n",
       "2           Mobile Bay  Revised        A  2013-08-31         WF   \n",
       "3  Mississippi Coastal  Revised        A  2013-08-31         WF   \n",
       "4            Escatawpa  Revised        A  2013-08-31         RX   \n",
       "\n",
       "                             geometry  \n",
       "0  POINT (-141.851 65.29600000000001)  \n",
       "1  POINT (-162.314 67.75700000000001)  \n",
       "2              POINT (-88.122 30.383)  \n",
       "3               POINT (-88.301 30.41)  \n",
       "4              POINT (-88.337 30.672)  \n",
       "\n",
       "[5 rows x 30 columns]"
      ]
     },
     "execution_count": 36,
     "metadata": {},
     "output_type": "execute_result"
    }
   ],
   "source": [
    "#import module and shapefile\n",
    "import geopandas as gpd\n",
    "\n",
    "df = gpd.read_file(\"C:\\data\\mtbs_fod_pts_data\\mtbs_fod_pts_20170501.shp\")\n",
    "\n",
    "#display GeoDataFrame, looks just like pandas dataframe\n",
    "df.head()"
   ]
  },
  {
   "cell_type": "code",
   "execution_count": 9,
   "metadata": {},
   "outputs": [],
   "source": [
    "# components of GeoDataFrame object follow those of pandas dataframes. \n",
    "#Here, all GeoDataframe attributes are set to their own variable\n",
    "index = df.index\n",
    "columns = df.columns\n",
    "data = df.values"
   ]
  },
  {
   "cell_type": "code",
   "execution_count": 3,
   "metadata": {},
   "outputs": [
    {
     "data": {
      "text/plain": [
       "RangeIndex(start=0, stop=20340, step=1)"
      ]
     },
     "execution_count": 3,
     "metadata": {},
     "output_type": "execute_result"
    }
   ],
   "source": [
    "index # returns number of rows as tuple. is referred to as \"row index\""
   ]
  },
  {
   "cell_type": "code",
   "execution_count": 6,
   "metadata": {},
   "outputs": [
    {
     "data": {
      "text/plain": [
       "Index(['FIRE_ID', 'FIRENAME', 'ASMNT_TYPE', 'PRE_ID', 'POST_ID', 'ND_T',\n",
       "       'IG_T', 'LOW_T', 'MOD_T', 'HIGH_T', 'FIRE_YEAR', 'FIRE_MON', 'FIRE_DAY',\n",
       "       'LAT', 'LONG', 'WRS_PATH', 'WRS_ROW', 'P_ACRES', 'R_ACRES', 'STATE',\n",
       "       'ADMIN', 'MTBS_ZONE', 'GACC', 'HUC4_CODE', 'HUC4_NAME', 'Version',\n",
       "       'RevCode', 'RelDate', 'Fire_Type', 'geometry'],\n",
       "      dtype='object')"
      ]
     },
     "execution_count": 6,
     "metadata": {},
     "output_type": "execute_result"
    }
   ],
   "source": [
    "columns # \"column index\""
   ]
  },
  {
   "cell_type": "code",
   "execution_count": 7,
   "metadata": {},
   "outputs": [
    {
     "data": {
      "text/plain": [
       "array([['AK6529614185119990612', 'WITCH', 'Extended', ..., '2013-08-31',\n",
       "        'WF', <shapely.geometry.point.Point object at 0x0000018EB8F4E400>],\n",
       "       ['AK6775716231420040531', 'UVGOON CREEK', 'Initial', ...,\n",
       "        '2013-08-31', 'WF',\n",
       "        <shapely.geometry.point.Point object at 0x0000018EB8F4E9E8>],\n",
       "       ['AL3038308812219980404', 'UNNAMED', 'Initial (SS)', ...,\n",
       "        '2013-08-31', 'WF',\n",
       "        <shapely.geometry.point.Point object at 0x0000018EB8F4EF98>],\n",
       "       ..., \n",
       "       ['WY4495310930920110821', 'HOLE IN THE WALL', 'Extended (SS)', ...,\n",
       "        '2013-07-31', 'WF',\n",
       "        <shapely.geometry.point.Point object at 0x0000018EBEDC0C88>],\n",
       "       ['WY4497710769520030809', 'LITTLE HORN II', 'Extended', ...,\n",
       "        '2009-11-18', 'WF',\n",
       "        <shapely.geometry.point.Point object at 0x0000018EBEDC31D0>],\n",
       "       ['WY4499610614320120921', 'BORDER', 'Initial', ..., '2014-04-16',\n",
       "        'WF', <shapely.geometry.point.Point object at 0x0000018EBEDC3748>]], dtype=object)"
      ]
     },
     "execution_count": 7,
     "metadata": {},
     "output_type": "execute_result"
    }
   ],
   "source": [
    "data # returns attributes for all rows"
   ]
  },
  {
   "cell_type": "code",
   "execution_count": 10,
   "metadata": {},
   "outputs": [
    {
     "data": {
      "text/plain": [
       "pandas.core.indexes.range.RangeIndex"
      ]
     },
     "execution_count": 10,
     "metadata": {},
     "output_type": "execute_result"
    }
   ],
   "source": [
    "#RangeIndex is a special type of index object analogous to a Python range object, \n",
    "#saving memory by only printing stop start and step values\n",
    "type(index)"
   ]
  },
  {
   "cell_type": "code",
   "execution_count": 11,
   "metadata": {},
   "outputs": [
    {
     "data": {
      "text/plain": [
       "pandas.core.indexes.base.Index"
      ]
     },
     "execution_count": 11,
     "metadata": {},
     "output_type": "execute_result"
    }
   ],
   "source": [
    "type(columns)"
   ]
  },
  {
   "cell_type": "code",
   "execution_count": 12,
   "metadata": {},
   "outputs": [
    {
     "data": {
      "text/plain": [
       "numpy.ndarray"
      ]
     },
     "execution_count": 12,
     "metadata": {},
     "output_type": "execute_result"
    }
   ],
   "source": [
    "type(data) # all three are exactly the same as with a pandas dataframe. "
   ]
  },
  {
   "cell_type": "code",
   "execution_count": 37,
   "metadata": {},
   "outputs": [
    {
     "data": {
      "text/plain": [
       "FIRE_ID       object\n",
       "FIRENAME      object\n",
       "ASMNT_TYPE    object\n",
       "PRE_ID        object\n",
       "POST_ID       object\n",
       "dtype: object"
      ]
     },
     "execution_count": 37,
     "metadata": {},
     "output_type": "execute_result"
    }
   ],
   "source": [
    "#print data types per column. mostly objects because attribute tables from shapefiles contain text as well as numbers\n",
    "df.dtypes.head() "
   ]
  },
  {
   "cell_type": "code",
   "execution_count": 14,
   "metadata": {},
   "outputs": [
    {
     "data": {
      "text/plain": [
       "float64    14\n",
       "object     16\n",
       "dtype: int64"
      ]
     },
     "execution_count": 14,
     "metadata": {},
     "output_type": "execute_result"
    }
   ],
   "source": [
    "# count all different data types\n",
    "df.get_dtype_counts()"
   ]
  },
  {
   "cell_type": "code",
   "execution_count": 19,
   "metadata": {},
   "outputs": [
    {
     "data": {
      "text/plain": [
       "pandas.core.series.Series"
      ]
     },
     "execution_count": 19,
     "metadata": {},
     "output_type": "execute_result"
    }
   ],
   "source": [
    "# print type of column, returns pandas Series object\n",
    "type(df['FIRENAME'])"
   ]
  },
  {
   "cell_type": "code",
   "execution_count": 21,
   "metadata": {},
   "outputs": [],
   "source": [
    "# compare different types of columns data\n",
    "firename = df['FIRENAME'] #object type \n",
    "fireyear = df['FIRE_YEAR'] #float64 type"
   ]
  },
  {
   "cell_type": "code",
   "execution_count": 38,
   "metadata": {},
   "outputs": [
    {
     "data": {
      "text/plain": [
       "UNNAMED       7594\n",
       "COTTONWOOD      23\n",
       "BEAR CREEK      16\n",
       "COYOTE          16\n",
       "ROCK CREEK      14\n",
       "Name: FIRENAME, dtype: int64"
      ]
     },
     "execution_count": 38,
     "metadata": {},
     "output_type": "execute_result"
    }
   ],
   "source": [
    "# for object, returns sum of counts\n",
    "firename.value_counts().head()"
   ]
  },
  {
   "cell_type": "code",
   "execution_count": 39,
   "metadata": {},
   "outputs": [
    {
     "data": {
      "text/plain": [
       "2011.0    1708\n",
       "2010.0    1220\n",
       "2015.0    1152\n",
       "2006.0    1063\n",
       "2014.0    1001\n",
       "Name: FIRE_YEAR, dtype: int64"
      ]
     },
     "execution_count": 39,
     "metadata": {},
     "output_type": "execute_result"
    }
   ],
   "source": [
    "# returns counts per year\n",
    "fireyear.value_counts().head()"
   ]
  },
  {
   "cell_type": "code",
   "execution_count": 24,
   "metadata": {},
   "outputs": [
    {
     "data": {
      "text/plain": [
       "count       20340\n",
       "unique      10534\n",
       "top       UNNAMED\n",
       "freq         7594\n",
       "Name: FIRENAME, dtype: object"
      ]
     },
     "execution_count": 24,
     "metadata": {},
     "output_type": "execute_result"
    }
   ],
   "source": [
    "# describe method used on object type\n",
    "firename.describe()"
   ]
  },
  {
   "cell_type": "code",
   "execution_count": 25,
   "metadata": {},
   "outputs": [
    {
     "data": {
      "text/plain": [
       "count    20340.000000\n",
       "mean      2003.333972\n",
       "std          8.894303\n",
       "min       1984.000000\n",
       "25%       1997.000000\n",
       "50%       2006.000000\n",
       "75%       2011.000000\n",
       "max       2015.000000\n",
       "Name: FIRE_YEAR, dtype: float64"
      ]
     },
     "execution_count": 25,
     "metadata": {},
     "output_type": "execute_result"
    }
   ],
   "source": [
    "# describe method used on float64 type, returns more statistics as expected with numerical values\n",
    "fireyear.describe()"
   ]
  },
  {
   "cell_type": "code",
   "execution_count": 40,
   "metadata": {},
   "outputs": [
    {
     "data": {
      "text/plain": [
       "0    False\n",
       "1    False\n",
       "2    False\n",
       "3    False\n",
       "4    False\n",
       "Name: FIRENAME, dtype: bool"
      ]
     },
     "execution_count": 40,
     "metadata": {},
     "output_type": "execute_result"
    }
   ],
   "source": [
    "# returns boolean and checks if value is null\n",
    "firename.isnull().head()"
   ]
  },
  {
   "cell_type": "code",
   "execution_count": 41,
   "metadata": {},
   "outputs": [
    {
     "data": {
      "text/plain": [
       "0    False\n",
       "1    False\n",
       "2    False\n",
       "3    False\n",
       "4    False\n",
       "Name: FIRE_YEAR, dtype: bool"
      ]
     },
     "execution_count": 41,
     "metadata": {},
     "output_type": "execute_result"
    }
   ],
   "source": [
    "fireyear.isnull().head()"
   ]
  },
  {
   "cell_type": "code",
   "execution_count": 29,
   "metadata": {},
   "outputs": [
    {
     "data": {
      "text/plain": [
       "False"
      ]
     },
     "execution_count": 29,
     "metadata": {},
     "output_type": "execute_result"
    }
   ],
   "source": [
    "# checks if there are NAN values in column\n",
    "firename.hasnans"
   ]
  },
  {
   "cell_type": "code",
   "execution_count": 30,
   "metadata": {},
   "outputs": [
    {
     "data": {
      "text/plain": [
       "False"
      ]
     },
     "execution_count": 30,
     "metadata": {},
     "output_type": "execute_result"
    }
   ],
   "source": [
    "fireyear.hasnans"
   ]
  },
  {
   "cell_type": "code",
   "execution_count": 42,
   "metadata": {},
   "outputs": [
    {
     "data": {
      "text/plain": [
       "0    True\n",
       "1    True\n",
       "2    True\n",
       "3    True\n",
       "4    True\n",
       "Name: FIRE_YEAR, dtype: bool"
      ]
     },
     "execution_count": 42,
     "metadata": {},
     "output_type": "execute_result"
    }
   ],
   "source": [
    "# checks if there are 0 values in column, returns boolean\n",
    "fireyear.notnull().head()"
   ]
  },
  {
   "cell_type": "code",
   "execution_count": 33,
   "metadata": {},
   "outputs": [
    {
     "data": {
      "text/plain": [
       "0        False\n",
       "1        False\n",
       "2         True\n",
       "3        False\n",
       "4         True\n",
       "5         True\n",
       "6         True\n",
       "7         True\n",
       "8         True\n",
       "9         True\n",
       "10        True\n",
       "11       False\n",
       "12        True\n",
       "13        True\n",
       "14        True\n",
       "15        True\n",
       "16       False\n",
       "17       False\n",
       "18       False\n",
       "19       False\n",
       "20       False\n",
       "21       False\n",
       "22       False\n",
       "23        True\n",
       "24       False\n",
       "25       False\n",
       "26       False\n",
       "27       False\n",
       "28       False\n",
       "29        True\n",
       "         ...  \n",
       "20310    False\n",
       "20311     True\n",
       "20312    False\n",
       "20313    False\n",
       "20314    False\n",
       "20315    False\n",
       "20316    False\n",
       "20317    False\n",
       "20318    False\n",
       "20319    False\n",
       "20320    False\n",
       "20321    False\n",
       "20322    False\n",
       "20323    False\n",
       "20324    False\n",
       "20325    False\n",
       "20326    False\n",
       "20327    False\n",
       "20328    False\n",
       "20329    False\n",
       "20330    False\n",
       "20331    False\n",
       "20332    False\n",
       "20333    False\n",
       "20334    False\n",
       "20335    False\n",
       "20336    False\n",
       "20337    False\n",
       "20338    False\n",
       "20339    False\n",
       "Name: FIRENAME, Length: 20340, dtype: bool"
      ]
     },
     "execution_count": 33,
     "metadata": {},
     "output_type": "execute_result"
    }
   ],
   "source": [
    "# checks if row value corresponds with a certain value\n",
    "firename = df['FIRENAME']\n",
    "firename == \"UNNAMED\""
   ]
  },
  {
   "cell_type": "code",
   "execution_count": 34,
   "metadata": {},
   "outputs": [
    {
     "data": {
      "text/plain": [
       "0"
      ]
     },
     "execution_count": 34,
     "metadata": {},
     "output_type": "execute_result"
    }
   ],
   "source": [
    "# example of chaining methods\n",
    "fireyear.isnull().sum()"
   ]
  },
  {
   "cell_type": "code",
   "execution_count": 43,
   "metadata": {},
   "outputs": [
    {
     "data": {
      "text/html": [
       "<div>\n",
       "<style scoped>\n",
       "    .dataframe tbody tr th:only-of-type {\n",
       "        vertical-align: middle;\n",
       "    }\n",
       "\n",
       "    .dataframe tbody tr th {\n",
       "        vertical-align: top;\n",
       "    }\n",
       "\n",
       "    .dataframe thead th {\n",
       "        text-align: right;\n",
       "    }\n",
       "</style>\n",
       "<table border=\"1\" class=\"dataframe\">\n",
       "  <thead>\n",
       "    <tr style=\"text-align: right;\">\n",
       "      <th></th>\n",
       "      <th>FIRE_ID</th>\n",
       "      <th>ASMNT_TYPE</th>\n",
       "      <th>PRE_ID</th>\n",
       "      <th>POST_ID</th>\n",
       "      <th>ND_T</th>\n",
       "      <th>IG_T</th>\n",
       "      <th>LOW_T</th>\n",
       "      <th>MOD_T</th>\n",
       "      <th>HIGH_T</th>\n",
       "      <th>FIRE_YEAR</th>\n",
       "      <th>...</th>\n",
       "      <th>ADMIN</th>\n",
       "      <th>MTBS_ZONE</th>\n",
       "      <th>GACC</th>\n",
       "      <th>HUC4_CODE</th>\n",
       "      <th>HUC4_NAME</th>\n",
       "      <th>Version</th>\n",
       "      <th>RevCode</th>\n",
       "      <th>RelDate</th>\n",
       "      <th>Fire_Type</th>\n",
       "      <th>geometry</th>\n",
       "    </tr>\n",
       "    <tr>\n",
       "      <th>FIRENAME</th>\n",
       "      <th></th>\n",
       "      <th></th>\n",
       "      <th></th>\n",
       "      <th></th>\n",
       "      <th></th>\n",
       "      <th></th>\n",
       "      <th></th>\n",
       "      <th></th>\n",
       "      <th></th>\n",
       "      <th></th>\n",
       "      <th></th>\n",
       "      <th></th>\n",
       "      <th></th>\n",
       "      <th></th>\n",
       "      <th></th>\n",
       "      <th></th>\n",
       "      <th></th>\n",
       "      <th></th>\n",
       "      <th></th>\n",
       "      <th></th>\n",
       "      <th></th>\n",
       "    </tr>\n",
       "  </thead>\n",
       "  <tbody>\n",
       "    <tr>\n",
       "      <th>WITCH</th>\n",
       "      <td>AK6529614185119990612</td>\n",
       "      <td>Extended</td>\n",
       "      <td>50660141994192</td>\n",
       "      <td>50650141999199</td>\n",
       "      <td>-970.0</td>\n",
       "      <td>-150.0</td>\n",
       "      <td>75.0</td>\n",
       "      <td>350.0</td>\n",
       "      <td>600.0</td>\n",
       "      <td>1999.0</td>\n",
       "      <td>...</td>\n",
       "      <td>NPS</td>\n",
       "      <td>Alaska</td>\n",
       "      <td>Alaska</td>\n",
       "      <td>19040401</td>\n",
       "      <td>Eagle to Circle</td>\n",
       "      <td>Revised</td>\n",
       "      <td>A</td>\n",
       "      <td>2013-08-31</td>\n",
       "      <td>WF</td>\n",
       "      <td>POINT (-141.851 65.29600000000001)</td>\n",
       "    </tr>\n",
       "    <tr>\n",
       "      <th>UVGOON CREEK</th>\n",
       "      <td>AK6775716231420040531</td>\n",
       "      <td>Initial</td>\n",
       "      <td>70800122002176</td>\n",
       "      <td>70800122004183</td>\n",
       "      <td>-970.0</td>\n",
       "      <td>-150.0</td>\n",
       "      <td>-10.0</td>\n",
       "      <td>250.0</td>\n",
       "      <td>9999.0</td>\n",
       "      <td>2004.0</td>\n",
       "      <td>...</td>\n",
       "      <td>NPS</td>\n",
       "      <td>Alaska</td>\n",
       "      <td>Alaska</td>\n",
       "      <td>19050403</td>\n",
       "      <td>Lower Noatuk River</td>\n",
       "      <td>Revised</td>\n",
       "      <td>A</td>\n",
       "      <td>2013-08-31</td>\n",
       "      <td>WF</td>\n",
       "      <td>POINT (-162.314 67.75700000000001)</td>\n",
       "    </tr>\n",
       "    <tr>\n",
       "      <th>UNNAMED</th>\n",
       "      <td>AL3038308812219980404</td>\n",
       "      <td>Initial (SS)</td>\n",
       "      <td>NA</td>\n",
       "      <td>50210391998128</td>\n",
       "      <td>-9999.0</td>\n",
       "      <td>-9999.0</td>\n",
       "      <td>650.0</td>\n",
       "      <td>-9999.0</td>\n",
       "      <td>-9999.0</td>\n",
       "      <td>1998.0</td>\n",
       "      <td>...</td>\n",
       "      <td>OTHER</td>\n",
       "      <td>Southeast</td>\n",
       "      <td>Southern</td>\n",
       "      <td>03160205</td>\n",
       "      <td>Mobile Bay</td>\n",
       "      <td>Revised</td>\n",
       "      <td>A</td>\n",
       "      <td>2013-08-31</td>\n",
       "      <td>WF</td>\n",
       "      <td>POINT (-88.122 30.383)</td>\n",
       "    </tr>\n",
       "    <tr>\n",
       "      <th>BAY FIRE</th>\n",
       "      <td>AL3041008830120050916</td>\n",
       "      <td>Initial (SS)</td>\n",
       "      <td>NA</td>\n",
       "      <td>50210392005291</td>\n",
       "      <td>-9999.0</td>\n",
       "      <td>-9999.0</td>\n",
       "      <td>525.0</td>\n",
       "      <td>72.0</td>\n",
       "      <td>-175.0</td>\n",
       "      <td>2005.0</td>\n",
       "      <td>...</td>\n",
       "      <td>OTHER</td>\n",
       "      <td>Southeast</td>\n",
       "      <td>Southern</td>\n",
       "      <td>03170009</td>\n",
       "      <td>Mississippi Coastal</td>\n",
       "      <td>Revised</td>\n",
       "      <td>A</td>\n",
       "      <td>2013-08-31</td>\n",
       "      <td>WF</td>\n",
       "      <td>POINT (-88.301 30.41)</td>\n",
       "    </tr>\n",
       "    <tr>\n",
       "      <th>UNNAMED</th>\n",
       "      <td>AL3067208833720050207</td>\n",
       "      <td>Initial</td>\n",
       "      <td>50210392004049</td>\n",
       "      <td>50210392005083</td>\n",
       "      <td>-970.0</td>\n",
       "      <td>-150.0</td>\n",
       "      <td>60.0</td>\n",
       "      <td>450.0</td>\n",
       "      <td>9999.0</td>\n",
       "      <td>2005.0</td>\n",
       "      <td>...</td>\n",
       "      <td>OTHER</td>\n",
       "      <td>Southeast</td>\n",
       "      <td>Southern</td>\n",
       "      <td>03170008</td>\n",
       "      <td>Escatawpa</td>\n",
       "      <td>Revised</td>\n",
       "      <td>A</td>\n",
       "      <td>2013-08-31</td>\n",
       "      <td>RX</td>\n",
       "      <td>POINT (-88.337 30.672)</td>\n",
       "    </tr>\n",
       "  </tbody>\n",
       "</table>\n",
       "<p>5 rows × 29 columns</p>\n",
       "</div>"
      ],
      "text/plain": [
       "                            FIRE_ID    ASMNT_TYPE          PRE_ID  \\\n",
       "FIRENAME                                                            \n",
       "WITCH         AK6529614185119990612      Extended  50660141994192   \n",
       "UVGOON CREEK  AK6775716231420040531       Initial  70800122002176   \n",
       "UNNAMED       AL3038308812219980404  Initial (SS)              NA   \n",
       "BAY FIRE      AL3041008830120050916  Initial (SS)              NA   \n",
       "UNNAMED       AL3067208833720050207       Initial  50210392004049   \n",
       "\n",
       "                     POST_ID    ND_T    IG_T  LOW_T   MOD_T  HIGH_T  \\\n",
       "FIRENAME                                                              \n",
       "WITCH         50650141999199  -970.0  -150.0   75.0   350.0   600.0   \n",
       "UVGOON CREEK  70800122004183  -970.0  -150.0  -10.0   250.0  9999.0   \n",
       "UNNAMED       50210391998128 -9999.0 -9999.0  650.0 -9999.0 -9999.0   \n",
       "BAY FIRE      50210392005291 -9999.0 -9999.0  525.0    72.0  -175.0   \n",
       "UNNAMED       50210392005083  -970.0  -150.0   60.0   450.0  9999.0   \n",
       "\n",
       "              FIRE_YEAR                 ...                  ADMIN  MTBS_ZONE  \\\n",
       "FIRENAME                                ...                                     \n",
       "WITCH            1999.0                 ...                    NPS     Alaska   \n",
       "UVGOON CREEK     2004.0                 ...                    NPS     Alaska   \n",
       "UNNAMED          1998.0                 ...                  OTHER  Southeast   \n",
       "BAY FIRE         2005.0                 ...                  OTHER  Southeast   \n",
       "UNNAMED          2005.0                 ...                  OTHER  Southeast   \n",
       "\n",
       "                  GACC  HUC4_CODE            HUC4_NAME  Version  RevCode  \\\n",
       "FIRENAME                                                                   \n",
       "WITCH           Alaska   19040401      Eagle to Circle  Revised        A   \n",
       "UVGOON CREEK    Alaska   19050403   Lower Noatuk River  Revised        A   \n",
       "UNNAMED       Southern   03160205           Mobile Bay  Revised        A   \n",
       "BAY FIRE      Southern   03170009  Mississippi Coastal  Revised        A   \n",
       "UNNAMED       Southern   03170008            Escatawpa  Revised        A   \n",
       "\n",
       "                 RelDate Fire_Type                            geometry  \n",
       "FIRENAME                                                                \n",
       "WITCH         2013-08-31        WF  POINT (-141.851 65.29600000000001)  \n",
       "UVGOON CREEK  2013-08-31        WF  POINT (-162.314 67.75700000000001)  \n",
       "UNNAMED       2013-08-31        WF              POINT (-88.122 30.383)  \n",
       "BAY FIRE      2013-08-31        WF               POINT (-88.301 30.41)  \n",
       "UNNAMED       2013-08-31        RX              POINT (-88.337 30.672)  \n",
       "\n",
       "[5 rows x 29 columns]"
      ]
     },
     "execution_count": 43,
     "metadata": {},
     "output_type": "execute_result"
    }
   ],
   "source": [
    "# set a different column as index, in this case \"FIRENAME\"\n",
    "df2 = df.set_index('FIRENAME')\n",
    "df2.head()"
   ]
  }
 ],
 "metadata": {
  "kernelspec": {
   "display_name": "Python 3",
   "language": "python",
   "name": "python3"
  },
  "language_info": {
   "codemirror_mode": {
    "name": "ipython",
    "version": 3
   },
   "file_extension": ".py",
   "mimetype": "text/x-python",
   "name": "python",
   "nbconvert_exporter": "python",
   "pygments_lexer": "ipython3",
   "version": "3.6.3"
  }
 },
 "nbformat": 4,
 "nbformat_minor": 2
}
